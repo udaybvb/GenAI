{
  "nbformat": 4,
  "nbformat_minor": 0,
  "metadata": {
    "colab": {
      "provenance": [],
      "gpuType": "T4",
      "authorship_tag": "ABX9TyMoT9oriFa3vf82FYoAi6RT",
      "include_colab_link": true
    },
    "kernelspec": {
      "name": "python3",
      "display_name": "Python 3"
    },
    "language_info": {
      "name": "python"
    },
    "accelerator": "GPU"
  },
  "cells": [
    {
      "cell_type": "markdown",
      "metadata": {
        "id": "view-in-github",
        "colab_type": "text"
      },
      "source": [
        "<a href=\"https://colab.research.google.com/github/udaybvb/GenAI/blob/main/bag_of_words.ipynb\" target=\"_parent\"><img src=\"https://colab.research.google.com/assets/colab-badge.svg\" alt=\"Open In Colab\"/></a>"
      ]
    },
    {
      "cell_type": "code",
      "execution_count": 16,
      "metadata": {
        "id": "ZzjIc7hby3sr",
        "colab": {
          "base_uri": "https://localhost:8080/"
        },
        "outputId": "1dfe5f95-1bc0-48a3-d1ee-cbb1c9fec3fd"
      },
      "outputs": [
        {
          "output_type": "stream",
          "name": "stdout",
          "text": [
            "Requirement already satisfied: nltk in /usr/local/lib/python3.10/dist-packages (3.8.1)\n",
            "Requirement already satisfied: click in /usr/local/lib/python3.10/dist-packages (from nltk) (8.1.7)\n",
            "Requirement already satisfied: joblib in /usr/local/lib/python3.10/dist-packages (from nltk) (1.4.2)\n",
            "Requirement already satisfied: regex>=2021.8.3 in /usr/local/lib/python3.10/dist-packages (from nltk) (2024.5.15)\n",
            "Requirement already satisfied: tqdm in /usr/local/lib/python3.10/dist-packages (from nltk) (4.66.4)\n"
          ]
        }
      ],
      "source": [
        "!pip install nltk\n"
      ]
    },
    {
      "cell_type": "code",
      "source": [
        "paragraph = \"\"\" Dr Ashok S. Shettar is Vice-Chancellor of KLE Technological University, Hubli.). He has ME and PhD in Civil Engineering from the Indian Institute of Science, Bangalore. Dr Shettar has over 35 years’ experience in engineering education and administration. As principal of BVB College of Engineering Technology from 2001 to 2015, he lead a comprehensive strategic reform process to transform BVB college to the status of University. He is Chairman of national level committee of AICTE on examination reforms. He is also member of AICTE committee for 'Developing strategy for Implementation of National Education Policy (NEP-2020)'. He was a member of Higher Education council, Govt, of Karnataka, the Executive Council and Academic Council of Visvesvaraya Technological University in Belgaum. He is the founding Chairman of CII, North Karnataka Zone. His expertise lies in strategic planning and institutional development, Outcome Based Education framework, Engineering Education Research. He has played an important role in establishing and growing “Centre for Technology Innovation and Entrepreneurship’ at KLE Tech, which has emerged as pioneering model to nurture entrepreneurial ecosystem in Tier-II cities of India. In 2018 he was honored by Indian Electronics and Semiconductor Association (IESA) with ‘Techno-visionary’ lifetime achievement award. He is also bestowed with 'Rajyotsava Award -2020' by Government of Karnataka for his contribution in the field of education\n",
        "\"\"\""
      ],
      "metadata": {
        "id": "b-JZX6IV0QzZ"
      },
      "execution_count": 4,
      "outputs": []
    },
    {
      "cell_type": "code",
      "source": [
        "paragraph"
      ],
      "metadata": {
        "colab": {
          "base_uri": "https://localhost:8080/",
          "height": 107
        },
        "id": "IiYhUBE5UYNB",
        "outputId": "76d890ad-f2da-4a27-cfed-32134abc3dbe"
      },
      "execution_count": 5,
      "outputs": [
        {
          "output_type": "execute_result",
          "data": {
            "text/plain": [
              "\" Dr Ashok S. Shettar is Vice-Chancellor of KLE Technological University, Hubli.). He has ME and PhD in Civil Engineering from the Indian Institute of Science, Bangalore. Dr Shettar has over 35 years’ experience in engineering education and administration. As principal of BVB College of Engineering Technology from 2001 to 2015, he lead a comprehensive strategic reform process to transform BVB college to the status of University. He is Chairman of national level committee of AICTE on examination reforms. He is also member of AICTE committee for 'Developing strategy for Implementation of National Education Policy (NEP-2020)'. He was a member of Higher Education council, Govt, of Karnataka, the Executive Council and Academic Council of Visvesvaraya Technological University in Belgaum. He is the founding Chairman of CII, North Karnataka Zone. His expertise lies in strategic planning and institutional development, Outcome Based Education framework, Engineering Education Research. He has played an important role in establishing and growing “Centre for Technology Innovation and Entrepreneurship’ at KLE Tech, which has emerged as pioneering model to nurture entrepreneurial ecosystem in Tier-II cities of India. In 2018 he was honored by Indian Electronics and Semiconductor Association (IESA) with ‘Techno-visionary’ lifetime achievement award. He is also bestowed with 'Rajyotsava Award -2020' by Government of Karnataka for his contribution in the field of education\\n\""
            ],
            "application/vnd.google.colaboratory.intrinsic+json": {
              "type": "string"
            }
          },
          "metadata": {},
          "execution_count": 5
        }
      ]
    },
    {
      "cell_type": "code",
      "source": [
        "import re\n",
        "import nltk\n",
        "from nltk.corpus import stopwords\n",
        "from nltk.stem import PorterStemmer\n",
        "from nltk.stem import WordNetLemmatizer\n",
        "nltk.download('punkt')\n",
        "nltk.download('stopwords')"
      ],
      "metadata": {
        "colab": {
          "base_uri": "https://localhost:8080/"
        },
        "id": "gHMswVopUdmU",
        "outputId": "4528feea-1f0d-4b0a-dc6c-d75ad4488b13"
      },
      "execution_count": 25,
      "outputs": [
        {
          "output_type": "stream",
          "name": "stderr",
          "text": [
            "[nltk_data] Downloading package punkt to /root/nltk_data...\n",
            "[nltk_data]   Package punkt is already up-to-date!\n",
            "[nltk_data] Downloading package stopwords to /root/nltk_data...\n",
            "[nltk_data]   Unzipping corpora/stopwords.zip.\n"
          ]
        },
        {
          "output_type": "execute_result",
          "data": {
            "text/plain": [
              "True"
            ]
          },
          "metadata": {},
          "execution_count": 25
        }
      ]
    },
    {
      "cell_type": "code",
      "source": [
        "ps = PorterStemmer()\n",
        "wordnet = WordNetLemmatizer()\n",
        "sentences = nltk.sent_tokenize(paragraph)\n"
      ],
      "metadata": {
        "id": "1CqsYW0DUih9"
      },
      "execution_count": 26,
      "outputs": []
    },
    {
      "cell_type": "code",
      "source": [
        "corpus = []"
      ],
      "metadata": {
        "id": "nrfnTI4AVIJw"
      },
      "execution_count": 27,
      "outputs": []
    },
    {
      "cell_type": "code",
      "source": [
        "sentences"
      ],
      "metadata": {
        "colab": {
          "base_uri": "https://localhost:8080/"
        },
        "id": "doBTOh-NV9j9",
        "outputId": "e93dd677-4914-4897-9c5d-b5e2d3f5bc34"
      },
      "execution_count": 22,
      "outputs": [
        {
          "output_type": "execute_result",
          "data": {
            "text/plain": [
              "[' Dr Ashok S. Shettar is Vice-Chancellor of KLE Technological University, Hubli.).',\n",
              " 'He has ME and PhD in Civil Engineering from the Indian Institute of Science, Bangalore.',\n",
              " 'Dr Shettar has over 35 years’ experience in engineering education and administration.',\n",
              " 'As principal of BVB College of Engineering Technology from 2001 to 2015, he lead a comprehensive strategic reform process to transform BVB college to the status of University.',\n",
              " 'He is Chairman of national level committee of AICTE on examination reforms.',\n",
              " \"He is also member of AICTE committee for 'Developing strategy for Implementation of National Education Policy (NEP-2020)'.\",\n",
              " 'He was a member of Higher Education council, Govt, of Karnataka, the Executive Council and Academic Council of Visvesvaraya Technological University in Belgaum.',\n",
              " 'He is the founding Chairman of CII, North Karnataka Zone.',\n",
              " 'His expertise lies in strategic planning and institutional development, Outcome Based Education framework, Engineering Education Research.',\n",
              " 'He has played an important role in establishing and growing “Centre for Technology Innovation and Entrepreneurship’ at KLE Tech, which has emerged as pioneering model to nurture entrepreneurial ecosystem in Tier-II cities of India.',\n",
              " 'In 2018 he was honored by Indian Electronics and Semiconductor Association (IESA) with ‘Techno-visionary’ lifetime achievement award.',\n",
              " \"He is also bestowed with 'Rajyotsava Award -2020' by Government of Karnataka for his contribution in the field of education\"]"
            ]
          },
          "metadata": {},
          "execution_count": 22
        }
      ]
    },
    {
      "cell_type": "code",
      "source": [
        "type(sentences)"
      ],
      "metadata": {
        "colab": {
          "base_uri": "https://localhost:8080/"
        },
        "id": "Jdi7Xk5FWEhA",
        "outputId": "633fb2ea-c110-4d66-9858-ccace476a9bc"
      },
      "execution_count": 23,
      "outputs": [
        {
          "output_type": "execute_result",
          "data": {
            "text/plain": [
              "list"
            ]
          },
          "metadata": {},
          "execution_count": 23
        }
      ]
    },
    {
      "cell_type": "code",
      "source": [
        "stemmer =PorterStemmer()\n",
        "stemmer.stem('going')"
      ],
      "metadata": {
        "colab": {
          "base_uri": "https://localhost:8080/",
          "height": 35
        },
        "id": "L_3G_fwdWfiO",
        "outputId": "4ac1ea63-5f05-452a-f32f-857a09130e6b"
      },
      "execution_count": 30,
      "outputs": [
        {
          "output_type": "execute_result",
          "data": {
            "text/plain": [
              "'go'"
            ],
            "application/vnd.google.colaboratory.intrinsic+json": {
              "type": "string"
            }
          },
          "metadata": {},
          "execution_count": 30
        }
      ]
    },
    {
      "cell_type": "code",
      "source": [
        "nltk.download('wordnet')\n",
        "for i in range(len(sentences)):\n",
        "    review = re.sub('[^a-zA-Z]', ' ', sentences[i])\n",
        "    review = review.lower()\n",
        "    review = review.split()\n",
        "    review = [wordnet.lemmatize(word) for word in review if word not in set(stopwords.words(\"english\"))]\n",
        "    review = ' '.join(review)\n",
        "    corpus.append(review)"
      ],
      "metadata": {
        "colab": {
          "base_uri": "https://localhost:8080/"
        },
        "id": "PQqltgt7Vu1z",
        "outputId": "b310d8a0-408a-4db9-971f-da8467b3a601"
      },
      "execution_count": 29,
      "outputs": [
        {
          "output_type": "stream",
          "name": "stderr",
          "text": [
            "[nltk_data] Downloading package wordnet to /root/nltk_data...\n"
          ]
        }
      ]
    },
    {
      "cell_type": "code",
      "source": [
        "\n",
        "corpus"
      ],
      "metadata": {
        "colab": {
          "base_uri": "https://localhost:8080/"
        },
        "id": "ZRZUUIdgWsUt",
        "outputId": "2fcf5c06-8979-42e6-e1d3-13a7df97bf4a"
      },
      "execution_count": 31,
      "outputs": [
        {
          "output_type": "execute_result",
          "data": {
            "text/plain": [
              "['dr ashok shettar vice chancellor kle technological university hubli',\n",
              " 'phd civil engineering indian institute science bangalore',\n",
              " 'dr shettar year experience engineering education administration',\n",
              " 'principal bvb college engineering technology lead comprehensive strategic reform process transform bvb college status university',\n",
              " 'chairman national level committee aicte examination reform',\n",
              " 'also member aicte committee developing strategy implementation national education policy nep',\n",
              " 'member higher education council govt karnataka executive council academic council visvesvaraya technological university belgaum',\n",
              " 'founding chairman cii north karnataka zone',\n",
              " 'expertise lie strategic planning institutional development outcome based education framework engineering education research',\n",
              " 'played important role establishing growing centre technology innovation entrepreneurship kle tech emerged pioneering model nurture entrepreneurial ecosystem tier ii city india',\n",
              " 'honored indian electronics semiconductor association iesa techno visionary lifetime achievement award',\n",
              " 'also bestowed rajyotsava award government karnataka contribution field education']"
            ]
          },
          "metadata": {},
          "execution_count": 31
        }
      ]
    },
    {
      "cell_type": "code",
      "source": [
        "from sklearn.feature_extraction.text import CountVectorizer"
      ],
      "metadata": {
        "id": "K2rVI_FiWykd"
      },
      "execution_count": 32,
      "outputs": []
    },
    {
      "cell_type": "code",
      "source": [
        "cv = CountVectorizer()\n",
        "X = cv.fit_transform(corpus).toarray()"
      ],
      "metadata": {
        "id": "UwbLNWbJW1VC"
      },
      "execution_count": 33,
      "outputs": []
    },
    {
      "cell_type": "code",
      "source": [
        "X"
      ],
      "metadata": {
        "colab": {
          "base_uri": "https://localhost:8080/"
        },
        "id": "Xganiw9hW3ap",
        "outputId": "d65505a7-dfe0-4d70-db60-97f84b61bbf1"
      },
      "execution_count": 34,
      "outputs": [
        {
          "output_type": "execute_result",
          "data": {
            "text/plain": [
              "array([[0, 0, 0, ..., 0, 0, 0],\n",
              "       [0, 0, 0, ..., 0, 0, 0],\n",
              "       [0, 0, 1, ..., 0, 1, 0],\n",
              "       ...,\n",
              "       [0, 0, 0, ..., 0, 0, 0],\n",
              "       [0, 1, 0, ..., 0, 0, 0],\n",
              "       [0, 0, 0, ..., 0, 0, 0]])"
            ]
          },
          "metadata": {},
          "execution_count": 34
        }
      ]
    }
  ]
}